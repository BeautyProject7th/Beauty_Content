{
 "cells": [
  {
   "cell_type": "markdown",
   "metadata": {},
   "source": [
    "# Youtube_Content"
   ]
  },
  {
   "cell_type": "markdown",
   "metadata": {},
   "source": [
    "## 1. 기존 저장 파일 가져오기"
   ]
  },
  {
   "cell_type": "code",
   "execution_count": 19,
   "metadata": {
    "collapsed": true
   },
   "outputs": [],
   "source": [
    "import pandas as pd\n",
    "import numpy as np"
   ]
  },
  {
   "cell_type": "markdown",
   "metadata": {},
   "source": [
    "### 1-1. youtuber 리스트"
   ]
  },
  {
   "cell_type": "code",
   "execution_count": 20,
   "metadata": {
    "collapsed": true
   },
   "outputs": [],
   "source": [
    "def youtuber_list():\n",
    "    global youtuber_df\n",
    "    youtuber_df = pd.read_csv(\"youtuber-list.csv\", encoding=\"utf-8\")\n",
    "    youtuber_df.head(5)\n",
    "    global cnt_youtuber\n",
    "    cnt_youtuber = len(youtuber_df)"
   ]
  },
  {
   "cell_type": "code",
   "execution_count": 21,
   "metadata": {
    "collapsed": true
   },
   "outputs": [],
   "source": [
    "# dataframe의 column명 변경\n",
    "# youtuber_df.columns = [\"name\", \"address\"]"
   ]
  },
  {
   "cell_type": "markdown",
   "metadata": {},
   "source": [
    "### 1-2. videos 리스트"
   ]
  },
  {
   "cell_type": "code",
   "execution_count": 22,
   "metadata": {
    "collapsed": true
   },
   "outputs": [],
   "source": [
    "def youtuber_videos():\n",
    "    global youtuber_videos_df\n",
    "    youtuber_videos_df = pd.read_csv(\"youtuber_videos.csv\", encoding = \"utf-8\")\n",
    "    youtuber_videos_df.head(5)"
   ]
  },
  {
   "cell_type": "markdown",
   "metadata": {},
   "source": [
    "### 2. 유튜버 홈페이지에서 비디오 페이지 찾고 리스트 가져오기"
   ]
  },
  {
   "cell_type": "code",
   "execution_count": 23,
   "metadata": {
    "collapsed": true
   },
   "outputs": [],
   "source": [
    "from selenium import webdriver\n",
    "from bs4 import BeautifulSoup\n",
    "import time\n",
    "from slacker import Slacker"
   ]
  },
  {
   "cell_type": "code",
   "execution_count": 24,
   "metadata": {
    "collapsed": true
   },
   "outputs": [],
   "source": [
    "#slack = Slacker(token)"
   ]
  },
  {
   "cell_type": "code",
   "execution_count": 25,
   "metadata": {
    "collapsed": true
   },
   "outputs": [],
   "source": [
    "youtube = \"https://www.youtube.com\""
   ]
  },
  {
   "cell_type": "code",
   "execution_count": 26,
   "metadata": {
    "collapsed": true
   },
   "outputs": [],
   "source": [
    "def all_init():\n",
    "    youtuber_df = pd.read_csv(\"youtuber-list.csv\", encoding=\"utf-8\")\n",
    "    youtuber_df[\"videos_ad\"] = None ###Youtuber 비디오 주소 초기화\n",
    "    global videos_info\n",
    "    videos_info = [] ###Youtuber_video_list 초기화\n",
    "    youtuber_videos_df = pd.DataFrame(videos_info, columns = [\"youtuber_name\", \"video_id\"]) ###Videos_df 초기화\n",
    "    youtuber_videos_df.to_csv(\"youtuber_videos.csv\", encoding=\"utf-8\", index = False)"
   ]
  },
  {
   "cell_type": "code",
   "execution_count": 27,
   "metadata": {
    "collapsed": true
   },
   "outputs": [],
   "source": [
    "def get_address_bs(address): #주소값의 bs를 준다.\n",
    "    driver = webdriver.Firefox()\n",
    "    open_address = driver.get(address)\n",
    "    time.sleep(20)\n",
    "    get_source = driver.page_source\n",
    "    address_bs = BeautifulSoup(get_source, \"html.parser\")\n",
    "    driver.quit()\n",
    "    return address_bs"
   ]
  },
  {
   "cell_type": "code",
   "execution_count": 28,
   "metadata": {
    "collapsed": true
   },
   "outputs": [],
   "source": [
    "def find_youtuber_videos_address(address_bs):\n",
    "    while(1):\n",
    "        try:\n",
    "            youtuber_videos = address_bs.find_all(\"ul\", {\"id\" : \"channel-navigation-menu\"})\n",
    "            youtuber_videos = str(youtuber_videos)\n",
    "            youtuber_videos = youtuber_videos.split(\"\\n\")\n",
    "            youtuber_videos = youtuber_videos[5]\n",
    "            youtuber_videos = youtuber_videos.split(\"href=\\\"\")\n",
    "            youtuber_videos = youtuber_videos[1]\n",
    "            youtuber_videos = youtuber_videos[0:-55]\n",
    "            youtuber_videos_address = youtube + youtuber_videos\n",
    "            return youtuber_videos_address\n",
    "        except IndexError:\n",
    "            pass        "
   ]
  },
  {
   "cell_type": "code",
   "execution_count": 29,
   "metadata": {
    "collapsed": true
   },
   "outputs": [],
   "source": [
    "def videos_list_read_more_and_bs(videos_ad):\n",
    "    #오류가 났을 시 shutdown되기 때문에 따로 빼기\n",
    "    driver = webdriver.Firefox()\n",
    "    open_videos_ad = driver.get(videos_ad)\n",
    "    time.sleep(30)\n",
    "    while(1):\n",
    "        try:\n",
    "            result = driver.find_element_by_class_name(\"load-more-text\").click()\n",
    "            time.sleep(2)\n",
    "        except Exception:\n",
    "            break\n",
    "    videos_ad_source = driver.page_source\n",
    "    videos_ad_bs = BeautifulSoup(videos_ad_source, \"html.parser\")\n",
    "    driver.quit()\n",
    "    return videos_ad_bs"
   ]
  },
  {
   "cell_type": "code",
   "execution_count": 30,
   "metadata": {
    "collapsed": true
   },
   "outputs": [],
   "source": [
    "def get_youtuber_videos_list(youtuber_name, videos_bs):\n",
    "    while(1):\n",
    "        videos_element = videos_bs.find_all(\"a\", {\"class\" : \"yt-uix-sessionlink yt-uix-tile-link spf-link yt-ui-ellipsis yt-ui-ellipsis-2\"})\n",
    "        videos_element = str(videos_element)\n",
    "        videos_element = videos_element.split(\"</a>\")\n",
    "        cnt_video = len(videos_element)-1\n",
    "        print(youtuber_name, \"Total: \", cnt_video)\n",
    "        if not cnt_video == 0:\n",
    "            break #비디오 개수가 0이 나오는 에러 해결\n",
    "    for i in range(cnt_video):\n",
    "        #video_name = videos_element[i]\n",
    "        #video_name = video_name.split(\"title=\\\"\")\n",
    "        #video_name = video_name[1]\n",
    "        #video_name = video_name.split(\"\\\">\")\n",
    "        #video_name = video_name[0]\n",
    "        video_id = videos_element[i]\n",
    "        video_id = video_id.split(\" href=\\\"\")\n",
    "        video_id = video_id[1]\n",
    "        video_id = video_id.split(\"\\\" title=\")\n",
    "        video_id = video_id[0]\n",
    "        #video_info = [youtuber_name, video_id, video_name]\n",
    "        video_info = [youtuber_name, video_id]\n",
    "        if video_info not in videos_info:\n",
    "            videos_info.append(video_info)\n",
    "    message = \"[\" + youtuber_name + \", \" + str(cnt_video) + \"]\"\n",
    "    #slack.chat.post_message('#crawling', message)    \n",
    "    time.sleep(3)"
   ]
  },
  {
   "cell_type": "code",
   "execution_count": 31,
   "metadata": {
    "collapsed": true,
    "scrolled": true
   },
   "outputs": [],
   "source": [
    "def main():\n",
    "    for i in range(cnt_youtuber):\n",
    "        name = youtuber_df[\"name\"][i]\n",
    "        address = youtuber_df[\"address\"][i]\n",
    "        if youtuber_df[\"videos_ad\"][i] is None:\n",
    "            ad_bs = get_address_bs(address)\n",
    "            videos_ad = find_youtuber_videos_address(ad_bs)\n",
    "            youtuber_df[\"videos_ad\"][i] = videos_ad\n",
    "            youtuber_df.to_csv(\"youtuber-list.csv\", encoding=\"utf-8\", index=False)\n",
    "            videos_bs = videos_list_read_more_and_bs(videos_ad)\n",
    "        else:\n",
    "            videos_bs = videos_list_read_more_and_bs(youtuber_df[\"videos_ad\"][i])\n",
    "        #print(videos_bs)\n",
    "        get_youtuber_videos_list(name, videos_bs)"
   ]
  },
  {
   "cell_type": "code",
   "execution_count": 32,
   "metadata": {
    "collapsed": true,
    "scrolled": true
   },
   "outputs": [],
   "source": [
    "all_init()"
   ]
  },
  {
   "cell_type": "code",
   "execution_count": 33,
   "metadata": {},
   "outputs": [
    {
     "name": "stdout",
     "output_type": "stream",
     "text": [
      "씬님 Total:  405\n",
      "윤짜미 Total:  180\n",
      "이사배 Total:  484\n",
      "포니 Total:  47\n",
      "Lena's Pocket Beauty Total:  115\n",
      "영주 Total:  188\n",
      "윤새 Total:  149\n",
      "회사원(calarygirl) Total:  182\n",
      "라뮤끄 Total:  185\n",
      "곽토리 Total:  225\n",
      "김기수 Total:  111\n",
      "dayeong's beauty drawing Total:  214\n",
      "루나(루나의 알파벳) Total:  59\n",
      "꽁지 Total:  206\n",
      "Yojin 조효진 Total:  55\n",
      "YENNY 예니 Total:  120\n",
      "썸블리 Total:  148\n",
      "EVA 에바 Total:  112\n",
      "써니채널 Sunny's Channel Total:  88\n",
      "Daddoa 다또아 Total:  131\n",
      "yeondukong 연두콩 Total:  180\n",
      "Yoo True Total:  495\n"
     ]
    }
   ],
   "source": [
    "#여기서부터 뭐 이제 하루에 한번 실행하던지 해야 하는건가?\n",
    "youtuber_videos()\n",
    "youtuber_list()\n",
    "main()"
   ]
  },
  {
   "cell_type": "code",
   "execution_count": 34,
   "metadata": {},
   "outputs": [
    {
     "data": {
      "text/plain": [
       "4079"
      ]
     },
     "execution_count": 34,
     "metadata": {},
     "output_type": "execute_result"
    }
   ],
   "source": [
    "len(videos_info)"
   ]
  },
  {
   "cell_type": "code",
   "execution_count": 35,
   "metadata": {
    "collapsed": true
   },
   "outputs": [],
   "source": [
    "youtuber_videos_df = pd.DataFrame(videos_info, columns = [\"youtuber_name\", \"video_id\"])"
   ]
  },
  {
   "cell_type": "code",
   "execution_count": 36,
   "metadata": {
    "collapsed": true
   },
   "outputs": [],
   "source": [
    "youtuber_videos_df.to_csv(\"youtuber_videos.csv\", index=False, encoding=\"utf-8\")"
   ]
  },
  {
   "cell_type": "markdown",
   "metadata": {
    "collapsed": true,
    "scrolled": false
   },
   "source": [
    "### df2 = df1.drop_duplicates(\"컨텐츠명\") column 삭제"
   ]
  },
  {
   "cell_type": "code",
   "execution_count": null,
   "metadata": {
    "collapsed": true
   },
   "outputs": [],
   "source": []
  }
 ],
 "metadata": {
  "kernelspec": {
   "display_name": "Python 3",
   "language": "python",
   "name": "python3"
  }
 },
 "nbformat": 4,
 "nbformat_minor": 2
}
