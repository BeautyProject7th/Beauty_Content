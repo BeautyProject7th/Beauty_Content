{
 "cells": [
  {
   "cell_type": "code",
   "execution_count": 2,
   "metadata": {
    "collapsed": true
   },
   "outputs": [],
   "source": [
    "import pandas as pd"
   ]
  },
  {
   "cell_type": "code",
   "execution_count": 42,
   "metadata": {
    "collapsed": true
   },
   "outputs": [],
   "source": [
    "df = pd.read_csv(\"youtuber_videos_info.csv\", encoding=\"utf-8\")"
   ]
  },
  {
   "cell_type": "code",
   "execution_count": 49,
   "metadata": {},
   "outputs": [
    {
     "name": "stdout",
     "output_type": "stream",
     "text": [
      "이사배의 사배샵에 오신 것을 환영합니다. ^^\n",
      "매일 밤 9시 ~ 12시까지 메이크업 방송 많은 시청 바랍니다.\n",
      "\n",
      "방송국 주소\n",
      "http://afreeca.com/risabaeart\n",
      "인스타그램\n",
      "https://instagram.com/Risabae_art\n",
      "\n",
      "사배yt-uix-sessionlink \" data-sessionlink=\"itct=CDEQ6TgYACITCPughP-Xn9QCFcSMWAodveEDoSj4HQ\" data-url=\"/results?q=%23%EB%B9%84%EB%A5%98%EC%97%B0%EB%8B%98%EA%BB%98%EC%84%9C\" href=\"/results?q=%23%EB%B9%84%EB%A5%98%EC%97%B0%EB%8B%98%EA%BB%98%EC%84%9C\">#비류연님께서 올려주신 제품정보입니다~\n",
      "\n",
      "[yt-uix-sessionlink \" data-sessionlink=\"itct=CDEQ6TgYACITCPughP-Xn9QCFcSMWAodveEDoSj4HQ\" data-url=\"/results?q=%23278%ED%9A%8C\" href=\"/results?q=%23278%ED%9A%8C\">#278회★깡으로버텨라! 립제품으로만메이크업] 제품정보\n",
      "===================\n",
      "# 베이스\n",
      "- 맥 크림드누드\n",
      "===================\n",
      "# 섀이딩\n",
      "- 맥 토프\n",
      "===================\n",
      "# 블러셔\n",
      "- 스틸라 카라멜로\n",
      "===================\n",
      "# 눈썹\n",
      "- 맥 앤틱벨벳\n",
      "===================\n",
      "# 아이라인\n",
      "- 스틸라 키안티\n",
      "===================\n",
      "# 립\n",
      "- 맥 스터디드키스\n",
      "- 맥 앤틱벨벳\n",
      "===================\n"
     ]
    }
   ],
   "source": [
    "print(df[\"description\"][678])"
   ]
  },
  {
   "cell_type": "code",
   "execution_count": 44,
   "metadata": {
    "collapsed": true,
    "scrolled": true
   },
   "outputs": [],
   "source": [
    "string = \"http://www.youtube.com\" + df[\"video_id\"][678]"
   ]
  },
  {
   "cell_type": "code",
   "execution_count": 45,
   "metadata": {},
   "outputs": [
    {
     "name": "stdout",
     "output_type": "stream",
     "text": [
      "http://www.youtube.com/watch?v=1OQdjqDGPI0\n"
     ]
    }
   ],
   "source": [
    "print(string)"
   ]
  },
  {
   "cell_type": "code",
   "execution_count": null,
   "metadata": {
    "collapsed": true
   },
   "outputs": [],
   "source": []
  }
 ],
 "metadata": {
  "kernelspec": {
   "display_name": "Python 3",
   "language": "python",
   "name": "python3"
  },
  "language_info": {
   "codemirror_mode": {
    "name": "ipython",
    "version": 3
   },
   "file_extension": ".py",
   "mimetype": "text/x-python",
   "name": "python",
   "nbconvert_exporter": "python",
   "pygments_lexer": "ipython3",
   "version": "3.5.2"
  }
 },
 "nbformat": 4,
 "nbformat_minor": 2
}
