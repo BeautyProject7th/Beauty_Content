{
 "cells": [
  {
   "cell_type": "markdown",
   "metadata": {},
   "source": [
    "# Youtube_Content"
   ]
  },
  {
   "cell_type": "code",
   "execution_count": 1,
   "metadata": {
    "collapsed": true
   },
   "outputs": [],
   "source": [
    "import pandas as pd\n",
    "import numpy as np"
   ]
  },
  {
   "cell_type": "code",
   "execution_count": 33,
   "metadata": {
    "collapsed": true
   },
   "outputs": [],
   "source": [
    "youtuber_df = pd.read_csv(\"youtuber_list.csv\", encoding=\"utf-8\")"
   ]
  },
  {
   "cell_type": "code",
   "execution_count": 34,
   "metadata": {
    "collapsed": true
   },
   "outputs": [],
   "source": [
    "# dataframe의 column명 변경\n",
    "# youtuber_df.columns = [\"name\", \"address\"]"
   ]
  },
  {
   "cell_type": "code",
   "execution_count": 35,
   "metadata": {
    "collapsed": true
   },
   "outputs": [],
   "source": [
    "# youtuber_df[\"videos_ad\"] = None ###초기화"
   ]
  },
  {
   "cell_type": "code",
   "execution_count": 36,
   "metadata": {},
   "outputs": [
    {
     "data": {
      "text/html": [
       "<div>\n",
       "<style>\n",
       "    .dataframe thead tr:only-child th {\n",
       "        text-align: right;\n",
       "    }\n",
       "\n",
       "    .dataframe thead th {\n",
       "        text-align: left;\n",
       "    }\n",
       "\n",
       "    .dataframe tbody tr th {\n",
       "        vertical-align: top;\n",
       "    }\n",
       "</style>\n",
       "<table border=\"1\" class=\"dataframe\">\n",
       "  <thead>\n",
       "    <tr style=\"text-align: right;\">\n",
       "      <th></th>\n",
       "      <th>name</th>\n",
       "      <th>address</th>\n",
       "      <th>videos_ad</th>\n",
       "    </tr>\n",
       "  </thead>\n",
       "  <tbody>\n",
       "    <tr>\n",
       "      <th>0</th>\n",
       "      <td>씬님</td>\n",
       "      <td>https://www.youtube.com/user/Hines382</td>\n",
       "      <td>https://www.youtube.com/user/Hines382/videos</td>\n",
       "    </tr>\n",
       "    <tr>\n",
       "      <th>1</th>\n",
       "      <td>윤짜미</td>\n",
       "      <td>https://www.youtube.com/user/yooncharmi</td>\n",
       "      <td>https://www.youtube.com/user/yooncharmi/videos</td>\n",
       "    </tr>\n",
       "    <tr>\n",
       "      <th>2</th>\n",
       "      <td>이사배</td>\n",
       "      <td>https://www.youtube.com/channel/UC9kmlDcqksaOn...</td>\n",
       "      <td>https://www.youtube.com/channel/UC9kmlDcqksaOn...</td>\n",
       "    </tr>\n",
       "    <tr>\n",
       "      <th>3</th>\n",
       "      <td>포니</td>\n",
       "      <td>https://www.youtube.com/channel/UCT-_4GqC-yLY1...</td>\n",
       "      <td>https://www.youtube.com/channel/UCT-_4GqC-yLY1...</td>\n",
       "    </tr>\n",
       "    <tr>\n",
       "      <th>4</th>\n",
       "      <td>Lena's Pocket Beauty</td>\n",
       "      <td>https://www.youtube.com/channel/UCU8mou_JjcF-I...</td>\n",
       "      <td>https://www.youtube.com/channel/UCU8mou_JjcF-I...</td>\n",
       "    </tr>\n",
       "  </tbody>\n",
       "</table>\n",
       "</div>"
      ],
      "text/plain": [
       "                   name                                            address  \\\n",
       "0                    씬님              https://www.youtube.com/user/Hines382   \n",
       "1                   윤짜미            https://www.youtube.com/user/yooncharmi   \n",
       "2                   이사배  https://www.youtube.com/channel/UC9kmlDcqksaOn...   \n",
       "3                    포니  https://www.youtube.com/channel/UCT-_4GqC-yLY1...   \n",
       "4  Lena's Pocket Beauty  https://www.youtube.com/channel/UCU8mou_JjcF-I...   \n",
       "\n",
       "                                           videos_ad  \n",
       "0       https://www.youtube.com/user/Hines382/videos  \n",
       "1     https://www.youtube.com/user/yooncharmi/videos  \n",
       "2  https://www.youtube.com/channel/UC9kmlDcqksaOn...  \n",
       "3  https://www.youtube.com/channel/UCT-_4GqC-yLY1...  \n",
       "4  https://www.youtube.com/channel/UCU8mou_JjcF-I...  "
      ]
     },
     "execution_count": 36,
     "metadata": {},
     "output_type": "execute_result"
    }
   ],
   "source": [
    "youtuber_df.head(5)"
   ]
  },
  {
   "cell_type": "code",
   "execution_count": 6,
   "metadata": {
    "collapsed": true
   },
   "outputs": [],
   "source": [
    "# youtuber_df"
   ]
  },
  {
   "cell_type": "code",
   "execution_count": 7,
   "metadata": {
    "collapsed": true
   },
   "outputs": [],
   "source": [
    "from selenium import webdriver\n",
    "from bs4 import BeautifulSoup"
   ]
  },
  {
   "cell_type": "code",
   "execution_count": 8,
   "metadata": {
    "collapsed": true
   },
   "outputs": [],
   "source": [
    "cnt_youtuber = len(youtuber_df)"
   ]
  },
  {
   "cell_type": "code",
   "execution_count": 23,
   "metadata": {
    "collapsed": true
   },
   "outputs": [],
   "source": [
    "#if you want reset videos_info list\n",
    "#reset_info = []\n",
    "#videos_info = reset_info"
   ]
  },
  {
   "cell_type": "code",
   "execution_count": 24,
   "metadata": {
    "collapsed": true
   },
   "outputs": [],
   "source": [
    "#if you want reset videos_info list\n",
    "#videos_info = []\n",
    "#youtuber_videos = pd.DataFrame(videos_info, columns = [\"youtuber_name\", \"video_id\"])"
   ]
  },
  {
   "cell_type": "code",
   "execution_count": 41,
   "metadata": {
    "collapsed": true
   },
   "outputs": [],
   "source": [
    "youtuber_videos_df = pd.read_csv(\"youtuber_videos.csv\", encoding = \"utf-8\")"
   ]
  },
  {
   "cell_type": "code",
   "execution_count": 42,
   "metadata": {},
   "outputs": [
    {
     "data": {
      "text/html": [
       "<div>\n",
       "<style>\n",
       "    .dataframe thead tr:only-child th {\n",
       "        text-align: right;\n",
       "    }\n",
       "\n",
       "    .dataframe thead th {\n",
       "        text-align: left;\n",
       "    }\n",
       "\n",
       "    .dataframe tbody tr th {\n",
       "        vertical-align: top;\n",
       "    }\n",
       "</style>\n",
       "<table border=\"1\" class=\"dataframe\">\n",
       "  <thead>\n",
       "    <tr style=\"text-align: right;\">\n",
       "      <th></th>\n",
       "      <th>youtuber_name</th>\n",
       "      <th>video_id</th>\n",
       "    </tr>\n",
       "  </thead>\n",
       "  <tbody>\n",
       "    <tr>\n",
       "      <th>0</th>\n",
       "      <td>씬님</td>\n",
       "      <td>/watch?v=UTXuSv8e18E</td>\n",
       "    </tr>\n",
       "    <tr>\n",
       "      <th>1</th>\n",
       "      <td>씬님</td>\n",
       "      <td>/watch?v=_BsClDZgRaY</td>\n",
       "    </tr>\n",
       "    <tr>\n",
       "      <th>2</th>\n",
       "      <td>씬님</td>\n",
       "      <td>/watch?v=u_aOZxEiIFs</td>\n",
       "    </tr>\n",
       "    <tr>\n",
       "      <th>3</th>\n",
       "      <td>씬님</td>\n",
       "      <td>/watch?v=4ZVexkbtRLk</td>\n",
       "    </tr>\n",
       "    <tr>\n",
       "      <th>4</th>\n",
       "      <td>씬님</td>\n",
       "      <td>/watch?v=mXaHpDcESng</td>\n",
       "    </tr>\n",
       "  </tbody>\n",
       "</table>\n",
       "</div>"
      ],
      "text/plain": [
       "  youtuber_name              video_id\n",
       "0            씬님  /watch?v=UTXuSv8e18E\n",
       "1            씬님  /watch?v=_BsClDZgRaY\n",
       "2            씬님  /watch?v=u_aOZxEiIFs\n",
       "3            씬님  /watch?v=4ZVexkbtRLk\n",
       "4            씬님  /watch?v=mXaHpDcESng"
      ]
     },
     "execution_count": 42,
     "metadata": {},
     "output_type": "execute_result"
    }
   ],
   "source": [
    "youtuber_videos_df.head(5)"
   ]
  },
  {
   "cell_type": "code",
   "execution_count": 12,
   "metadata": {
    "collapsed": true
   },
   "outputs": [],
   "source": [
    "youtube = \"https://www.youtube.com\""
   ]
  },
  {
   "cell_type": "code",
   "execution_count": 13,
   "metadata": {
    "collapsed": true
   },
   "outputs": [],
   "source": [
    "import time\n",
    "from slacker import Slacker"
   ]
  },
  {
   "cell_type": "code",
   "execution_count": 14,
   "metadata": {
    "collapsed": true
   },
   "outputs": [],
   "source": [
    "slack = Slacker(token)"
   ]
  },
  {
   "cell_type": "code",
   "execution_count": 15,
   "metadata": {
    "collapsed": true
   },
   "outputs": [],
   "source": [
    "def get_address_bs(address): #입력값의 bs를 준다.\n",
    "    driver = webdriver.Firefox()\n",
    "    open_address = driver.get(address)\n",
    "    time.sleep(20)\n",
    "    get_source = driver.page_source\n",
    "    address_bs = BeautifulSoup(get_source, \"html.parser\")\n",
    "    driver.quit()\n",
    "    return address_bs"
   ]
  },
  {
   "cell_type": "code",
   "execution_count": 16,
   "metadata": {
    "collapsed": true
   },
   "outputs": [],
   "source": [
    "def find_youtuber_videos_address(address_bs):\n",
    "    while(1):\n",
    "        try:\n",
    "            youtuber_videos = address_bs.find_all(\"ul\", {\"id\" : \"channel-navigation-menu\"})\n",
    "            youtuber_videos = str(youtuber_videos)\n",
    "            youtuber_videos = youtuber_videos.split(\"\\n\")\n",
    "            youtuber_videos = youtuber_videos[5]\n",
    "            youtuber_videos = youtuber_videos.split(\"href=\\\"\")\n",
    "            youtuber_videos = youtuber_videos[1]\n",
    "            youtuber_videos = youtuber_videos[0:-55]\n",
    "            youtuber_videos_address = youtube + youtuber_videos\n",
    "            return youtuber_videos_address\n",
    "        except IndexError:\n",
    "            pass        "
   ]
  },
  {
   "cell_type": "code",
   "execution_count": 17,
   "metadata": {
    "collapsed": true
   },
   "outputs": [],
   "source": [
    "def videos_list_read_more_and_bs(videos_ad):\n",
    "    #오류가 났을 시 shutdown되기 때문에 따로 빼기\n",
    "    driver = webdriver.Firefox()\n",
    "    open_videos_ad = driver.get(videos_ad)\n",
    "    time.sleep(30)\n",
    "    while(1):\n",
    "        try:\n",
    "            result = driver.find_element_by_class_name(\"load-more-text\").click()\n",
    "            time.sleep(2)\n",
    "        except Exception:\n",
    "            #pass pass를 할 경우 아예 무시가 된다.\n",
    "            break\n",
    "    videos_ad_source = driver.page_source\n",
    "    videos_ad_bs = BeautifulSoup(videos_ad_source, \"html.parser\")\n",
    "    driver.quit()\n",
    "    return videos_ad_bs"
   ]
  },
  {
   "cell_type": "code",
   "execution_count": 18,
   "metadata": {
    "collapsed": true
   },
   "outputs": [],
   "source": [
    "def get_youtuber_videos_list(youtuber_name, videos_bs):\n",
    "    while(1):\n",
    "        videos_element = videos_bs.find_all(\"a\", {\"class\" : \"yt-uix-sessionlink yt-uix-tile-link spf-link yt-ui-ellipsis yt-ui-ellipsis-2\"})\n",
    "        videos_element = str(videos_element)\n",
    "        videos_element = videos_element.split(\"</a>\")\n",
    "        cnt_video = len(videos_element)-1\n",
    "        print(youtuber_name, \"Total: \", cnt_video)\n",
    "        print(\"\\n\\n\\n\")\n",
    "        if not cnt_video == 0:\n",
    "            break #비디오 개수가 0이 나오는 에러 해결\n",
    "    for i in range(cnt_video):\n",
    "        #video_name = videos_element[i]\n",
    "        #video_name = video_name.split(\"title=\\\"\")\n",
    "        #video_name = video_name[1]\n",
    "        #video_name = video_name.split(\"\\\">\")\n",
    "        #video_name = video_name[0]\n",
    "        video_id = videos_element[i]\n",
    "        video_id = video_id.split(\" href=\\\"\")\n",
    "        video_id = video_id[1]\n",
    "        video_id = video_id.split(\"\\\" title=\")\n",
    "        video_id = video_id[0]\n",
    "        #video_info = [youtuber_name, video_id, video_name]\n",
    "        video_info = [youtuber_name, video_id]\n",
    "        if video_info not in videos_info:\n",
    "            videos_info.append(video_info)\n",
    "    message = \"[\" + youtuber_name + \", \" + str(cnt_video) + \"]\"\n",
    "    #slack.chat.post_message('#crawling', message)    \n",
    "    time.sleep(3)"
   ]
  },
  {
   "cell_type": "code",
   "execution_count": 19,
   "metadata": {
    "collapsed": true,
    "scrolled": true
   },
   "outputs": [],
   "source": [
    "def main():\n",
    "    for i in range(cnt_youtuber):\n",
    "        name = youtuber_df[\"name\"][i]\n",
    "        address = youtuber_df[\"address\"][i]\n",
    "        if youtuber_df[\"videos_ad\"][i] is None:\n",
    "            ad_bs = get_address_bs(address)\n",
    "            videos_ad = find_youtuber_videos_address(ad_bs)\n",
    "            youtuber_df[\"videos_ad\"][i] = videos_ad\n",
    "            youtuber_df.to_csv(\"youtuber_list.csv\", encoding=\"utf-8\", index=False)\n",
    "            videos_bs = videos_list_read_more_and_bs(videos_ad)\n",
    "        else:\n",
    "            videos_bs = videos_list_read_more_and_bs(youtuber_df[\"videos_ad\"][i])\n",
    "        #print(videos_bs)\n",
    "        get_youtuber_videos_list(name, videos_bs)"
   ]
  },
  {
   "cell_type": "code",
   "execution_count": 20,
   "metadata": {
    "scrolled": true
   },
   "outputs": [
    {
     "name": "stdout",
     "output_type": "stream",
     "text": [
      "씬님 Total:  405\n",
      "\n",
      "\n",
      "\n",
      "\n",
      "윤짜미 Total:  180\n",
      "\n",
      "\n",
      "\n",
      "\n",
      "이사배 Total:  484\n",
      "\n",
      "\n",
      "\n",
      "\n",
      "포니 Total:  47\n",
      "\n",
      "\n",
      "\n",
      "\n",
      "Lena's Pocket Beauty Total:  115\n",
      "\n",
      "\n",
      "\n",
      "\n",
      "영주 Total:  188\n",
      "\n",
      "\n",
      "\n",
      "\n",
      "윤새 Total:  149\n",
      "\n",
      "\n",
      "\n",
      "\n",
      "회사원(calarygirl) Total:  182\n",
      "\n",
      "\n",
      "\n",
      "\n",
      "라뮤끄 Total:  185\n",
      "\n",
      "\n",
      "\n",
      "\n",
      "곽토리 Total:  225\n",
      "\n",
      "\n",
      "\n",
      "\n",
      "김기수 Total:  111\n",
      "\n",
      "\n",
      "\n",
      "\n",
      "dayeong's beauty drawing Total:  214\n",
      "\n",
      "\n",
      "\n",
      "\n",
      "루나(루나의 알파벳) Total:  59\n",
      "\n",
      "\n",
      "\n",
      "\n",
      "꽁지 Total:  206\n",
      "\n",
      "\n",
      "\n",
      "\n",
      "Yojin 조효진 Total:  56\n",
      "\n",
      "\n",
      "\n",
      "\n",
      "YENNY 예니 Total:  120\n",
      "\n",
      "\n",
      "\n",
      "\n",
      "썸블리 Total:  148\n",
      "\n",
      "\n",
      "\n",
      "\n",
      "EVA 에바 Total:  112\n",
      "\n",
      "\n",
      "\n",
      "\n",
      "써니채널 Sunny's Channel Total:  88\n",
      "\n",
      "\n",
      "\n",
      "\n",
      "Daddoa 다또아 Total:  131\n",
      "\n",
      "\n",
      "\n",
      "\n",
      "yeondukong 연두콩 Total:  180\n",
      "\n",
      "\n",
      "\n",
      "\n",
      "Yoo True Total:  495\n",
      "\n",
      "\n",
      "\n",
      "\n"
     ]
    }
   ],
   "source": [
    "main()"
   ]
  },
  {
   "cell_type": "code",
   "execution_count": 22,
   "metadata": {},
   "outputs": [
    {
     "data": {
      "text/plain": [
       "4080"
      ]
     },
     "execution_count": 22,
     "metadata": {},
     "output_type": "execute_result"
    }
   ],
   "source": [
    "len(videos_info)"
   ]
  },
  {
   "cell_type": "code",
   "execution_count": 38,
   "metadata": {
    "collapsed": true
   },
   "outputs": [],
   "source": [
    "youtuber_videos_df = pd.DataFrame(videos_info, columns = [\"youtuber_name\", \"video_id\"])"
   ]
  },
  {
   "cell_type": "code",
   "execution_count": 39,
   "metadata": {
    "collapsed": true
   },
   "outputs": [],
   "source": [
    "youtuber_videos_df.to_csv(\"youtuber_videos.csv\", index=False, encoding=\"utf-8\")"
   ]
  },
  {
   "cell_type": "code",
   "execution_count": 162,
   "metadata": {
    "collapsed": true,
    "scrolled": false
   },
   "outputs": [],
   "source": [
    "#df2 = df1.drop_duplicates(\"컨텐츠명\") column 삭제"
   ]
  }
 ],
 "metadata": {
  "kernelspec": {
   "display_name": "Python 3",
   "language": "python",
   "name": "python3"
  },
  "language_info": {
   "codemirror_mode": {
    "name": "ipython",
    "version": 3
   },
   "file_extension": ".py",
   "mimetype": "text/x-python",
   "name": "python",
   "nbconvert_exporter": "python",
   "pygments_lexer": "ipython3",
   "version": "3.5.2"
  }
 },
 "nbformat": 4,
 "nbformat_minor": 2
}
