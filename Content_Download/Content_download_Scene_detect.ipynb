{
 "cells": [
  {
   "cell_type": "markdown",
   "metadata": {},
   "source": [
    "# 0. Set VIdeo Name"
   ]
  },
  {
   "cell_type": "code",
   "execution_count": 47,
   "metadata": {
    "collapsed": true
   },
   "outputs": [],
   "source": [
    "def get_video_name(address): ### Pytube\n",
    "    yt_address = YouTube(address)\n",
    "    yt_filename = yt_address.filename\n",
    "    yt_filename = yt_filename.replace(\"  \", \" \")\n",
    "    yt_filename = yt_filename.replace(\" \", \"_\")\n",
    "    yt_filename = yt_filename.replace(\"\\xa0\", \"_\")\n",
    "    return yt_filename"
   ]
  },
  {
   "cell_type": "markdown",
   "metadata": {},
   "source": [
    "# 1. Download Video"
   ]
  },
  {
   "cell_type": "code",
   "execution_count": 48,
   "metadata": {
    "collapsed": true
   },
   "outputs": [],
   "source": [
    "def get_video(address, filename): ### youtube_dl\n",
    "    print(filename)\n",
    "    ydl_opts = {'outtmpl':\"./Videos/\" + filename, 'format' : \"bestvideo+bestaudio/best\"}  \n",
    "    with yt.YoutubeDL(ydl_opts) as ydl:\n",
    "        ydl.download([address])"
   ]
  },
  {
   "cell_type": "markdown",
   "metadata": {},
   "source": [
    "# 2. Check Video Fram per Second / Duration"
   ]
  },
  {
   "cell_type": "code",
   "execution_count": 3,
   "metadata": {
    "collapsed": true
   },
   "outputs": [],
   "source": [
    "import os\n",
    "import subprocess"
   ]
  },
  {
   "cell_type": "code",
   "execution_count": 44,
   "metadata": {
    "collapsed": true
   },
   "outputs": [],
   "source": [
    "def get_fps_duration(filename):\n",
    "    fps = 0\n",
    "    video = cv2.VideoCapture(\"./Videos/\" + filename + \".mkv\");\n",
    "    clip = VideoFileClip(\"./Videos/\" + filename + \".mkv\")\n",
    "\n",
    "    (major_ver, minor_ver, subminor_ver) = (cv2.__version__).split('.')\n",
    "    try:\n",
    "        if int(major_ver)  < 3 :\n",
    "            fps = video.get(cv2.cv.CV_CAP_PROP_FPS)\n",
    "        else :\n",
    "            fps = video.get(cv2.CAP_PROP_FPS)\n",
    "        video.release();\n",
    "    except OSError:\n",
    "        process = subprocess.Popen(['/usr/bin/ffmpeg', '-i', \"./Videos/\"+filename+\".webm\", \"-qscale\", \"0\", \"./Videos/\"+filename+\".mkv\"], stdout=subprocess.PIPE, stderr=subprocess.STDOUT)\n",
    "        clip = VideoFileClip(\"./Videos/\" + filename + \".mkv\")\n",
    "    second = clip.duration\n",
    "    global e_file\n",
    "    e_file = int(second * fps)\n",
    "    print(\"FPS : \" + str(fps) + \", Second : \" + str(second) + \", E_file : \" + str(e_file))"
   ]
  },
  {
   "cell_type": "markdown",
   "metadata": {},
   "source": [
    "# 3. Download All Video Frames"
   ]
  },
  {
   "cell_type": "code",
   "execution_count": 6,
   "metadata": {
    "collapsed": true
   },
   "outputs": [],
   "source": [
    "def video_to_frames(video, path_output_dir,filename):\n",
    "    vidcap = cv2.VideoCapture(\"./Videos/\" + video)\n",
    "    print(\"🔥\" + video)\n",
    "    count = 0\n",
    "    while vidcap.isOpened():\n",
    "        if vidcap == False:\n",
    "            print(\"vidcap is False\")\n",
    "        success, image = vidcap.read()\n",
    "        if success:\n",
    "            cv2.imwrite(os.path.join(path_output_dir, '%d.png') % count, image)\n",
    "            count += 1\n",
    "        else:\n",
    "            break\n",
    "    cv2.destroyAllWindows()\n",
    "    vidcap.release()"
   ]
  },
  {
   "cell_type": "markdown",
   "metadata": {},
   "source": [
    "# 4. Scene_Detect"
   ]
  },
  {
   "cell_type": "code",
   "execution_count": 60,
   "metadata": {
    "collapsed": true
   },
   "outputs": [],
   "source": [
    "class PySceneDetectArgs(object):\n",
    "    def __init__(self, input, type='content'):\n",
    "        self.input = input\n",
    "        self.detection_method = type\n",
    "        self.threshold = 5\n",
    "        self.min_percent = 2000\n",
    "        self.min_scene_len = 15\n",
    "        self.block_size = 8\n",
    "        self.fade_bias = 0\n",
    "        self.downscale_factor = 1\n",
    "        self.frame_skip = 0\n",
    "        self.save_images = True\n",
    "        self.start_time = None\n",
    "        self.end_time = None\n",
    "        self.duration = None\n",
    "        self.quiet_mode = True\n",
    "        self.stats_file = None"
   ]
  },
  {
   "cell_type": "code",
   "execution_count": 75,
   "metadata": {},
   "outputs": [
    {
     "data": {
      "text/plain": [
       "'/home/soma/SeulA/Content_Download'"
      ]
     },
     "execution_count": 75,
     "metadata": {},
     "output_type": "execute_result"
    }
   ],
   "source": [
    "os.getcwd()"
   ]
  },
  {
   "cell_type": "code",
   "execution_count": 76,
   "metadata": {},
   "outputs": [],
   "source": [
    "def start_pyscenedetect(filename):\n",
    "    print(\"💣 Start SceneDetect\")\n",
    "    video_path = \"./Videos/\" + filename + \".mkv\"\n",
    "    scene_detectors = scenedetect.detectors.get_available()\n",
    "    smgr_content   = scenedetect.manager.SceneManager(PySceneDetectArgs(input=video_path, type='content'), scene_detectors)\n",
    "    #smgr_threshold = scenedetect.manager.SceneManager(PySceneDetectArgs(input=video_path, type='threshold'), scene_detectors)\n",
    "    scenedetect.detect_scenes_file(path=video_path, scene_manager=smgr_content)\n",
    "    #scenedetect.detect_scenes_file(path=video_path, scene_manager=smgr_threshold)\n",
    "    detected_scenes = smgr_content.scene_list"
   ]
  },
  {
   "cell_type": "markdown",
   "metadata": {},
   "source": [
    "# 5. Main"
   ]
  },
  {
   "cell_type": "code",
   "execution_count": 9,
   "metadata": {
    "collapsed": true
   },
   "outputs": [],
   "source": [
    "from pytube import YouTube\n",
    "import youtube_dl as yt\n",
    "import cv2\n",
    "from moviepy.editor import VideoFileClip\n",
    "import os\n",
    "from datetime import datetime\n",
    "import scenedetect\n",
    "import shutil"
   ]
  },
  {
   "cell_type": "code",
   "execution_count": 55,
   "metadata": {
    "collapsed": true
   },
   "outputs": [],
   "source": [
    "#video_list = [\"https://www.youtube.com/watch?v=GeQSdm8XdHI\"]"
   ]
  },
  {
   "cell_type": "code",
   "execution_count": 56,
   "metadata": {
    "collapsed": true
   },
   "outputs": [],
   "source": [
    "#video_list.append(\"https://www.youtube.com/watch?v=XSdCz8UcF4k\")"
   ]
  },
  {
   "cell_type": "code",
   "execution_count": 68,
   "metadata": {
    "collapsed": true
   },
   "outputs": [],
   "source": [
    "#%store -r video_list"
   ]
  },
  {
   "cell_type": "code",
   "execution_count": 57,
   "metadata": {},
   "outputs": [
    {
     "name": "stdout",
     "output_type": "stream",
     "text": [
      "['https://www.youtube.com/watch?v=GeQSdm8XdHI']\n"
     ]
    }
   ],
   "source": [
    "#print(video_list)"
   ]
  },
  {
   "cell_type": "code",
   "execution_count": 77,
   "metadata": {},
   "outputs": [
    {
     "name": "stdout",
     "output_type": "stream",
     "text": [
      "Stored 'filename' (str)\n",
      "Korean_One_Brand_tutorial_2_VDL_로드샵_원브랜드_메이크업_2_VDL_편_SSIN\n",
      "[youtube] GeQSdm8XdHI: Downloading webpage\n",
      "[youtube] GeQSdm8XdHI: Downloading video info webpage\n",
      "[youtube] GeQSdm8XdHI: Extracting video information\n",
      "[youtube] GeQSdm8XdHI: Downloading MPD manifest\n"
     ]
    },
    {
     "name": "stderr",
     "output_type": "stream",
     "text": [
      "WARNING: Requested formats are incompatible for merge and will be merged into mkv.\n"
     ]
    },
    {
     "name": "stdout",
     "output_type": "stream",
     "text": [
      "[download] ./Videos/Korean_One_Brand_tutorial_2_VDL_로드샵_원브랜드_메이크업_2_VDL_편_SSIN.mkv has already been downloaded and merged\n",
      "FPS : 29.97002997002997, Second : 596.66, E_file : 17881\n",
      "17881\n",
      "👍🏻 Already existing all frames.\n",
      "💣 Start SceneDetect\n"
     ]
    }
   ],
   "source": [
    "for i in range(len(video_list)):\n",
    "    filename = get_video_name(video_list[i])\n",
    "    %store filename\n",
    "    get_video(video_list[i], filename)\n",
    "    get_fps_duration(filename)\n",
    "    \n",
    "    try:\n",
    "        os.makedirs(\"./all_frames/\"+filename)\n",
    "    except:\n",
    "        FileExistsError\n",
    "    all_frames_dir = \"./all_frames/\" + filename + \"/\"\n",
    "    all_frames = os.listdir(all_frames_dir)\n",
    "    all_frames_cnt = len(all_frames)\n",
    "    print(e_file)\n",
    "\n",
    "    if all_frames_cnt == e_file:\n",
    "        print(\"👍🏻 Already existing all frames.\")\n",
    "    else:\n",
    "        video_to_frames(filename + \".mkv\", all_frames_dir, filename)\n",
    "        all_frames = os.listdir(all_frames_dir)\n",
    "        all_frames_cnt = len(all_frames)\n",
    "        if all_frames_cnt == e_file:\n",
    "            print(\"🎉 Exactly downloaded video frame.\")\n",
    "\n",
    "    scene_list = []\n",
    "    try:\n",
    "        os.makedirs(\"./detect_frames/\" + filename)\n",
    "    except FileExistsError:\n",
    "        pass\n",
    "    start_pyscenedetect(filename)\n",
    "    p_path = \".\"\n",
    "    source = os.listdir(p_path)\n",
    "    c_path = \"./detect_frames/\" + filename\n",
    "    for files in source:\n",
    "        if files.endswith('.jpg'):\n",
    "            shutil.move(os.path.join(p_path,files), os.path.join(c_path,files))"
   ]
  }
 ],
 "metadata": {
  "kernelspec": {
   "display_name": "Python 3",
   "language": "python",
   "name": "python3"
  },
  "language_info": {
   "codemirror_mode": {
    "name": "ipython",
    "version": 3
   },
   "file_extension": ".py",
   "mimetype": "text/x-python",
   "name": "python",
   "nbconvert_exporter": "python",
   "pygments_lexer": "ipython3",
   "version": "3.5.2"
  }
 },
 "nbformat": 4,
 "nbformat_minor": 2
}
